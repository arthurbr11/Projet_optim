{
 "cells": [
  {
   "cell_type": "markdown",
   "metadata": {},
   "source": [
    "# PROJET OPTI \n"
   ]
  },
  {
   "cell_type": "markdown",
   "metadata": {},
   "source": [
    "##  Maintenace problem"
   ]
  },
  {
   "cell_type": "markdown",
   "metadata": {},
   "source": [
    "**Q.1)**  Si on cherchait à minimiser les coûts uniquement on aurait tendance à rester avec une machine broken, tandis que si on souhaite uniquement maximiser les rentrées on aurait tendance à toujours remplacer la machine par une new, malgré le coût important (et potentiellement sous-optimal) que cela engendrerait. Vu que l'on répète plein de fois le même procédé, on peut donc maximiser l'espérance en partant du principe que le gain est proportionel au nombre de machine et à leur espérance individuelle."
   ]
  },
  {
   "cell_type": "markdown",
   "metadata": {},
   "source": [
    "**Q.2)** \n",
    "\n",
    "$Sate = \\{New,Good shape,Old,Broken\\}$\n",
    "\n",
    "$Action = \\{Maintain,Repair,Replace,Do nothing\\}$\n",
    "\n",
    "$V(t,s)=\\max_{a} Q(t,s,a)$\n",
    "$Q(t,s,a)=g(s)-c(s,a)+ \\sum_{s^{\\prime }} \\text{P} (s\\rightarrow s^{\\prime }|a)\\times V(t+1,s^{\\prime })$"
   ]
  },
  {
   "cell_type": "code",
   "execution_count": 1,
   "metadata": {},
   "outputs": [
    {
     "data": {
      "text/plain": [
       "4-element Vector{Vector{Float64}}:\n",
       " [0.0, 0.0, 0.0, 0.0]\n",
       " [0.0, 0.8, 0.2, 0.0]\n",
       " [0.0, 0.0, 0.9, 0.1]\n",
       " [0.0, 0.0, 0.0, 0.0]"
      ]
     },
     "execution_count": 1,
     "metadata": {},
     "output_type": "execute_result"
    }
   ],
   "source": [
    "States = [1,2,3,4]\n",
    "\n",
    "Actions = [\"maintain\",\"repair\",\"replace\",\"nothing\"]\n",
    "\n",
    "Couts = Dict([(\"maintain\",[-1,10,10,-1]),\n",
    "          (\"repair\",[-1,15,30,50]),\n",
    "          (\"replace\",[-1,70,70,70]),\n",
    "          (\"nothing\",[0,0,0,0])])\n",
    "\n",
    "T=12\n",
    "s=ones(T)*(-1) # states for all the time\n",
    "a=[-1]*T # actions for all the time\n",
    "Q=zeros(4,4,T) # 4 is the dimension of state and action \n",
    "V=zeros(4,T) # value\n",
    "pi=zeros(4,T)  # politic \n",
    "V_13=[0,0,0,0]\n",
    "\n",
    "\n",
    "replace = [ [ 0.0, 0.0, 0.0, 0.0 ],\n",
    "            [ 1.0, 0.0, 0.0, 0.0 ],\n",
    "            [ 1.0, 0.0, 0.0, 0.0 ],\n",
    "            [ 1.0, 0.0, 0.0, 0.0 ] ]\n",
    "\n",
    "repair = [ [ 0.0, 0.0, 0.0, 0.0 ],\n",
    "           [ 0.0, 1.0, 0.0, 0.0 ],\n",
    "           [ 0.0, 1.0, 0.0, 0.0 ],\n",
    "           [ 0.0, 1.0, 0.0, 0.0 ] ] \n",
    "\n",
    "nothing = [ [ 0.0, 1.0, 0.0, 0.0 ], \n",
    "            [ 0.0, 0.3, 0.7, 0.0 ],\n",
    "            [ 0.0, 0.0, 0.5, 0.5 ],\n",
    "            [ 0.0, 0.0, 0.0, 1.0 ] ] \n",
    "\n",
    "maintain = [ [ 0.0, 0.0, 0.0, 0.0 ], \n",
    "             [ 0.0, 0.8, 0.2, 0.0 ],\n",
    "             [ 0.0, 0.0, 0.9, 0.1 ],\n",
    "             [ 0.0, 0.0, 0.0, 0.0 ] ] "
   ]
  },
  {
   "cell_type": "code",
   "execution_count": 2,
   "metadata": {},
   "outputs": [
    {
     "data": {
      "text/plain": [
       "cout (generic function with 1 method)"
      ]
     },
     "execution_count": 2,
     "metadata": {},
     "output_type": "execute_result"
    }
   ],
   "source": [
    "function cout(state,action)\n",
    "  return Couts[action][state]\n",
    "end"
   ]
  },
  {
   "cell_type": "code",
   "execution_count": 3,
   "metadata": {},
   "outputs": [
    {
     "data": {
      "text/plain": [
       "70"
      ]
     },
     "execution_count": 3,
     "metadata": {},
     "output_type": "execute_result"
    }
   ],
   "source": [
    "cout(2,\"replace\")"
   ]
  },
  {
   "cell_type": "code",
   "execution_count": null,
   "metadata": {},
   "outputs": [],
   "source": []
  },
  {
   "cell_type": "markdown",
   "metadata": {},
   "source": [
    "## Stock management"
   ]
  },
  {
   "cell_type": "markdown",
   "metadata": {},
   "source": [
    "**Q.1)** \n",
    "\n",
    "L'ensemble d'état sont: $s_t = \\{1,..., 20\\}$\n",
    "\n",
    "L'ensemble d'état sont: $d_t = \\{ 0,..., 5 \\}$\n",
    "\n",
    "$y_{t}=\\min (d_{t},x_{t}+o_{t})$\n",
    "\n",
    "$x_{t+1}=x_{t}+o_{t}-y_{t}$\n",
    "\n",
    "$V(s,t)=\\min_{o_{t}\\in \\left[ 0,5\\right]  } \\sum^{10}_{d=0} \\text{P} (d_{t}=d)\\times [o_{t}-3y_{t}+0.1x_{t+1}+V_{t+1}(x_{t+1})]$\n",
    "\n",
    "$c(x_{t},o_{t},d_{t})=o_{t}-3y_{y}+0.1x_{t+1}$"
   ]
  },
  {
   "cell_type": "markdown",
   "metadata": {},
   "source": [
    "## Dice trading\n"
   ]
  },
  {
   "cell_type": "markdown",
   "metadata": {},
   "source": [
    "1. We consider a game of dices.\n",
    "At the beginning of a turn the player have a certain amount of points (starting with $0$). He can decide\n",
    "to buy one new dice (one per turn maximum, to be kept until the end) for $p = 5$ points, only if he have\n",
    "at least $p + 1$ points. The player then throw his dices ($6$ faces, independent, equilibrated), and add the\n",
    "maximum of all dices to his points. The game play for $T = 10$ turns. The player want to maximize the\n",
    "expected number of points at the end. For simplicity we assume that we can have at most $3$ dices.\n"
   ]
  },
  {
   "cell_type": "markdown",
   "metadata": {},
   "source": [
    "Example ($9$ points, $5$ turn game)\n",
    "$$\n",
    "\\begin{aligned}\n",
    "&\\\\\n",
    "&\\begin{array}{|l|l|l|l|}\n",
    "\\hline\n",
    "\\text{turn} & \\text{dice roll} & \\text{action} &\\text{total points} \\\\\n",
    "\\hline\n",
    "1 &3 &\\text{ cannot buy} &3  \\\\ \\hline\n",
    "2 &4 &\\text{ do not buy} & 7 \\\\ \\hline\n",
    "3 &5 &\\text{buy} & 7  \\\\ \\hline\n",
    "4 & \\max(3,2) & \\text{buy} & 5\\\\ \\hline\n",
    "5 & \\max(1,2,6) & \\text{do not buy} & 11 \\\\ \\hline\n",
    "\\end{array}\n",
    "\\\\\n",
    "\\end{aligned}\n",
    "$$"
   ]
  },
  {
   "cell_type": "markdown",
   "metadata": {},
   "source": [
    "(a) Determine the dynamical system considered in this problem. (specify state, control, dynamics)"
   ]
  },
  {
   "cell_type": "markdown",
   "metadata": {},
   "source": [
    "(b) A strategy is a function taking as argument the time-step t and the current state x and returning\n",
    "a control. Implement a very simple strategy (a heuristic)."
   ]
  },
  {
   "cell_type": "markdown",
   "metadata": {},
   "source": [
    "(c) Write a simulator taking as argument a strategy and an integer returning the estimated expected cost associated to the strategy with  95%\n",
    "  confidence interval."
   ]
  },
  {
   "cell_type": "markdown",
   "metadata": {},
   "source": [
    "(d) Compute the law of the maximum of 1,2 or 3 dices"
   ]
  },
  {
   "cell_type": "markdown",
   "metadata": {},
   "source": [
    "(e) Find the optimal value $V_0$ and strategy $\\pi^\\star$ by Dynamic Programming. Describe the optimal strategy in simple term."
   ]
  },
  {
   "cell_type": "markdown",
   "metadata": {},
   "source": [
    "(f) Check by simulation that the optimal value $V_0$ is indeed obtained when using the strategy $\\pi^\\star$"
   ]
  },
  {
   "cell_type": "markdown",
   "metadata": {},
   "source": [
    "(g) For which horizon will it never be interesting to buy (at price 5 ?)"
   ]
  },
  {
   "cell_type": "markdown",
   "metadata": {},
   "source": [
    "(h) What happens if we do not restrict the maximum number of dices that one can have ? (still buying only one per turn)"
   ]
  },
  {
   "cell_type": "markdown",
   "metadata": {},
   "source": [
    "2. We now consider an extension of the previous game. At any turn, once the dices are thrown, the player, if he has at least 2 dice, can loose a dice to double the gain of the throw. As before he can buy a dice at the beginning of next round."
   ]
  },
  {
   "cell_type": "markdown",
   "metadata": {},
   "source": [
    "(a) Assuming that we can have at most 5 dices, compute the optimal value and describe the optimal strategy."
   ]
  },
  {
   "cell_type": "markdown",
   "metadata": {},
   "source": [
    "(b) What happen if we do not restrict the maximum number of dices that can be owned by a player ?"
   ]
  },
  {
   "cell_type": "markdown",
   "metadata": {},
   "source": [
    "(c) Returning with a maximum of 5 dices, we now assume that, at the end of the game, the remaining\n",
    "dices are sold to the ”next player” for K where K is given in the following table:\n",
    "$$\n",
    "\\begin{aligned}\n",
    "&\\\\\n",
    "&\\begin{array}{|c|c|c|c|c|c|}\n",
    "\\hline\n",
    "D &1 &2 &3 &4 &5 \\\\ \\hline\n",
    "K &0 &2 &4 &5 &8 \\\\ \\hline\n",
    "\\end{array}\n",
    "\\\\\n",
    "\\end{aligned}\n",
    "$$\n",
    "What is the optimal value for this problem ?"
   ]
  },
  {
   "cell_type": "markdown",
   "metadata": {},
   "source": [
    "(d) What value K should you use at the end of the $10$ turn game to represent a $20$ turn game ?"
   ]
  },
  {
   "cell_type": "markdown",
   "metadata": {},
   "source": [
    "(e) Suggest an efficient way of finding a quasi-optimal strategy and value for a $10^{10}$ turn game."
   ]
  },
  {
   "cell_type": "code",
   "execution_count": null,
   "metadata": {},
   "outputs": [],
   "source": []
  },
  {
   "cell_type": "code",
   "execution_count": null,
   "metadata": {},
   "outputs": [],
   "source": []
  }
 ],
 "metadata": {
  "@webio": {
   "lastCommId": null,
   "lastKernelId": null
  },
  "kernelspec": {
   "display_name": "Julia 1.7.2",
   "language": "julia",
   "name": "julia-1.7"
  },
  "language_info": {
   "file_extension": ".jl",
   "mimetype": "application/julia",
   "name": "julia",
   "version": "1.7.2"
  },
  "toc": {
   "base_numbering": 1,
   "nav_menu": {},
   "number_sections": true,
   "sideBar": true,
   "skip_h1_title": true,
   "title_cell": "Table of Contents",
   "title_sidebar": "Contents",
   "toc_cell": true,
   "toc_position": {},
   "toc_section_display": true,
   "toc_window_display": false
  }
 },
 "nbformat": 4,
 "nbformat_minor": 2
}
