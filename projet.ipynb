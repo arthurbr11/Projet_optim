{
 "cells": [
  {
   "cell_type": "markdown",
   "metadata": {},
   "source": [
    "# PROJET OPTI \n"
   ]
  },
  {
   "cell_type": "markdown",
   "metadata": {},
   "source": [
    "##  Maintenace problem"
   ]
  },
  {
   "cell_type": "markdown",
   "metadata": {},
   "source": [
    "**Q.1)**  Si on cherchait à minimiser les coûts uniquement on aurait tendance à rester avec une machine broken, tandis que si on souhaite uniquement maximiser les rentrées on aurait tendance à toujours remplacer la machine par une new, malgré le coût important (et potentiellement sous-optimal) que cela engendrerait. Vu que l'on répète plein de fois le même procédé, on peut donc maximiser l'espérance en partant du principe que le gain est proportionel au nombre de machine et à leur espérance individuelle."
   ]
  },
  {
   "cell_type": "markdown",
   "metadata": {},
   "source": [
    "**Q.2)** \n",
    "\n",
    "$Sate = \\{New,Good shape,Old,Broken\\}$\n",
    "\n",
    "$Action = \\{Maintain,Repair,Replace,Do nothing\\}$\n",
    "\n",
    "$V(t,s)=\\max_{a} Q(t,s,a)$\n",
    "$Q(t,s,a)=g(s)-c(s,a)+ \\sum_{s^{\\prime }} \\text{P} (s\\rightarrow s^{\\prime }|a)\\times V(t+1,s^{\\prime })$"
   ]
  },
  {
   "cell_type": "code",
   "execution_count": 8,
   "metadata": {},
   "outputs": [
    {
     "data": {
      "text/plain": [
       "4-element Vector{Vector{Float64}}:\n",
       " [0.0, 0.0, 0.0, 0.0]\n",
       " [0.0, 0.8, 0.2, 0.0]\n",
       " [0.0, 0.0, 0.9, 0.1]\n",
       " [0.0, 0.0, 0.0, 0.0]"
      ]
     },
     "execution_count": 8,
     "metadata": {},
     "output_type": "execute_result"
    }
   ],
   "source": [
    "States = [1,2,3,4]\n",
    "\n",
    "Actions = [\"maintain\",\"repair\",\"replace\",\"nothing\"]\n",
    "\n",
    "Couts = Dict([(\"maintain\",[-1,10,10,-1]),\n",
    "          (\"repair\",[-1,15,30,50]),\n",
    "          (\"replace\",[-1,70,70,70]),\n",
    "          (\"nothing\",[0,0,0,0])])\n",
    "\n",
    "T=12\n",
    "s=ones(T)*(-1) # states for all the time\n",
    "a=[-1]*T # actions for all the time\n",
    "Q=zeros(4,4,T) # 4 is the dimension of state and action \n",
    "V=zeros(4,T) # value\n",
    "pi=zeros(4,T)  # politic \n",
    "V_13=[0,0,0,0]\n",
    "\n",
    "\n",
    "replace = [ [ 0.0, 0.0, 0.0, 0.0 ],\n",
    "            [ 1.0, 0.0, 0.0, 0.0 ],\n",
    "            [ 1.0, 0.0, 0.0, 0.0 ],\n",
    "            [ 1.0, 0.0, 0.0, 0.0 ] ]\n",
    "\n",
    "repair = [ [ 0.0, 0.0, 0.0, 0.0 ],\n",
    "           [ 0.0, 1.0, 0.0, 0.0 ],\n",
    "           [ 0.0, 1.0, 0.0, 0.0 ],\n",
    "           [ 0.0, 1.0, 0.0, 0.0 ] ] \n",
    "\n",
    "nothing = [ [ 0.0, 1.0, 0.0, 0.0 ], \n",
    "            [ 0.0, 0.3, 0.7, 0.0 ],\n",
    "            [ 0.0, 0.0, 0.5, 0.5 ],\n",
    "            [ 0.0, 0.0, 0.0, 1.0 ] ] \n",
    "\n",
    "maintain = [ [ 0.0, 0.0, 0.0, 0.0 ], \n",
    "             [ 0.0, 0.8, 0.2, 0.0 ],\n",
    "             [ 0.0, 0.0, 0.9, 0.1 ],\n",
    "             [ 0.0, 0.0, 0.0, 0.0 ] ] "
   ]
  },
  {
   "cell_type": "code",
   "execution_count": 9,
   "metadata": {},
   "outputs": [
    {
     "data": {
      "text/plain": [
       "cout (generic function with 1 method)"
      ]
     },
     "execution_count": 9,
     "metadata": {},
     "output_type": "execute_result"
    }
   ],
   "source": [
    "function cout(state,action)\n",
    "  return Couts[action][state]\n",
    "end"
   ]
  },
  {
   "cell_type": "code",
   "execution_count": 12,
   "metadata": {},
   "outputs": [
    {
     "data": {
      "text/plain": [
       "70"
      ]
     },
     "execution_count": 12,
     "metadata": {},
     "output_type": "execute_result"
    }
   ],
   "source": [
    "cout(2,\"replace\")"
   ]
  },
  {
   "cell_type": "code",
   "execution_count": null,
   "metadata": {},
   "outputs": [],
   "source": []
  },
  {
   "cell_type": "markdown",
   "metadata": {},
   "source": [
    "## Stock management"
   ]
  },
  {
   "cell_type": "markdown",
   "metadata": {},
   "source": [
    "**Q.1)** \n",
    "\n",
    "L'ensemble d'état sont: $s_t = \\{1,..., 20\\}$\n",
    "\n",
    "L'ensemble d'état sont: $d_t = \\{ 0,..., 5 \\}$\n",
    "\n",
    "$y_{t}=\\min (d_{t},x_{t}+o_{t})$\n",
    "\n",
    "$x_{t+1}=x_{t}+o_{t}-y_{t}$\n",
    "\n",
    "$V(s,t)=\\min_{o_{t}\\in \\left[ 0,5\\right]  } \\sum^{10}_{d=0} \\text{P} (d_{t}=d)\\times [o_{t}-3y_{t}+0.1x_{t+1}+V_{t+1}(x_{t+1})]$\n",
    "\n",
    "$c(x_{t},o_{t},d_{t})=o_{t}-3y_{y}+0.1x_{t+1}$"
   ]
  },
  {
   "cell_type": "code",
   "execution_count": null,
   "metadata": {},
   "outputs": [],
   "source": []
  }
 ],
 "metadata": {
  "@webio": {
   "lastCommId": null,
   "lastKernelId": null
  },
  "kernelspec": {
   "display_name": "Julia 1.7.2",
   "language": "julia",
   "name": "julia-1.7"
  },
  "language_info": {
   "file_extension": ".jl",
   "mimetype": "application/julia",
   "name": "julia",
   "version": "1.7.2"
  },
  "toc": {
   "base_numbering": 1,
   "nav_menu": {},
   "number_sections": true,
   "sideBar": true,
   "skip_h1_title": true,
   "title_cell": "Table of Contents",
   "title_sidebar": "Contents",
   "toc_cell": true,
   "toc_position": {},
   "toc_section_display": true,
   "toc_window_display": false
  }
 },
 "nbformat": 4,
 "nbformat_minor": 2
}
